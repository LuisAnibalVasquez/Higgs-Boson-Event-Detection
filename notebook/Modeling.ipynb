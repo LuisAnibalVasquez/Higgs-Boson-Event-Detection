{
 "cells": [
  {
   "cell_type": "code",
   "execution_count": 41,
   "metadata": {},
   "outputs": [],
   "source": [
    "import pandas as pd\n",
    "import tensorflow as tf\n",
    "import matplotlib.pyplot as plt\n",
    "import keras_tuner as kt\n",
    "\n",
    "from tensorflow import keras\n",
    "from keras.layers import Dense, Dropout"
   ]
  },
  {
   "attachments": {},
   "cell_type": "markdown",
   "metadata": {},
   "source": [
    "# Load the data"
   ]
  },
  {
   "cell_type": "code",
   "execution_count": 42,
   "metadata": {},
   "outputs": [],
   "source": [
    "pd.set_option('display.max_columns', None)\n",
    "pd.set_option('display.max_rows', None)\n",
    "\n",
    "X_train_file = 'X_train_scaled.csv' #X_train_scaled\n",
    "y_train_file = 'y_train.csv'\n",
    "\n",
    "X_test_file = 'X_test_scaled.csv' #X_test_scaled\n",
    "y_test_file = 'y_test.csv'\n",
    "\n",
    "_inputs = 0\n",
    "_output = 1\n",
    "_rows = 0\n",
    "_batch = 0\n",
    "_epoch = 0"
   ]
  },
  {
   "cell_type": "code",
   "execution_count": 43,
   "metadata": {},
   "outputs": [],
   "source": [
    "def plot_loss(h):\n",
    "    plt.plot(h.history['loss']) \n",
    "    plt.plot(h.history['val_loss']) \n",
    "    plt.title('Model loss') \n",
    "    plt.ylabel('Loss') \n",
    "    plt.xlabel('Epoch') \n",
    "    plt.legend(['Train', 'Test'], loc='upper left') \n",
    "    plt.show()"
   ]
  },
  {
   "cell_type": "code",
   "execution_count": 44,
   "metadata": {},
   "outputs": [],
   "source": [
    "def plot_precision(h, p, v_p):\n",
    "    plt.plot(h.history[p])\n",
    "    plt.plot(h.history[v_p])\n",
    "    plt.title('Model Precision')\n",
    "    plt.ylabel('Precision')\n",
    "    plt.xlabel('Epoch')\n",
    "    plt.legend(['Train', 'Test'], loc='upper left')\n",
    "    plt.show()"
   ]
  },
  {
   "cell_type": "code",
   "execution_count": 45,
   "metadata": {},
   "outputs": [],
   "source": [
    "X_train = pd.read_csv('../data/processed/' + X_train_file)\n",
    "z_train = pd.read_csv('../data/processed/' + y_train_file)\n",
    "\n",
    "X_test = pd.read_csv('../data/processed/' + X_test_file)\n",
    "z_test = pd.read_csv('../data/processed/' + y_test_file)"
   ]
  },
  {
   "cell_type": "code",
   "execution_count": 46,
   "metadata": {},
   "outputs": [
    {
     "name": "stdout",
     "output_type": "stream",
     "text": [
      "(224376, 32)\n",
      "(224376, 2)\n",
      "(75000, 32)\n",
      "(75000, 2)\n",
      "(224376, 31)\n",
      "(224376,)\n",
      "(75000, 31)\n",
      "(75000,)\n"
     ]
    }
   ],
   "source": [
    "print(X_train.shape)\n",
    "print(z_train.shape)\n",
    "print(X_test.shape)\n",
    "print(z_test.shape)\n",
    "\n",
    "X_train.drop(columns=['Unnamed: 0'], axis =1, inplace = True)\n",
    "X_test.drop(columns=['Unnamed: 0'], axis =1, inplace = True)\n",
    "\n",
    "y_train = z_train['Label']\n",
    "y_test = z_test['Label']\n",
    "\n",
    "print(X_train.shape)\n",
    "print(y_train.shape)\n",
    "print(X_test.shape)\n",
    "print(y_test.shape)\n"
   ]
  },
  {
   "cell_type": "code",
   "execution_count": 47,
   "metadata": {},
   "outputs": [
    {
     "name": "stdout",
     "output_type": "stream",
     "text": [
      "Features 31\n",
      "Rows 224376\n",
      "Epoch 100\n",
      "Batch 2244\n"
     ]
    }
   ],
   "source": [
    "_inputs =  len(X_train. columns) \n",
    "_rows = len(X_train. index)\n",
    "\n",
    "_epoch = 100\n",
    "_batch = round(_rows/_epoch)\n",
    "\n",
    "print('Features ' + str(_inputs))\n",
    "print('Rows ' + str(_rows))\n",
    "print('Epoch ' + str(_epoch))\n",
    "print('Batch ' + str(_batch))"
   ]
  },
  {
   "attachments": {},
   "cell_type": "markdown",
   "metadata": {},
   "source": [
    "# Model"
   ]
  },
  {
   "cell_type": "code",
   "execution_count": 48,
   "metadata": {},
   "outputs": [],
   "source": [
    "Loss_call_back = keras.callbacks.EarlyStopping(monitor='val_loss', patience=3, verbose=1, mode='min')"
   ]
  },
  {
   "cell_type": "code",
   "execution_count": 49,
   "metadata": {},
   "outputs": [],
   "source": [
    "def create_model(hp):\n",
    "    hp_units = hp.Int('units', min_value=32, max_value=512, step=32)\n",
    "    hp_learning_rate = hp.Choice('learning_rate', values=[1e-2, 1e-3, 1e-4])\n",
    "    inputs = keras.Input(shape=(_inputs, ))\n",
    "    x = Dense(units = hp_units,  activation=\"relu\")(inputs)\n",
    "    x = Dropout(0.5)(x)\n",
    "    x = Dense(units=round(hp_units/2), activation=\"relu\")(x)\n",
    "    x = Dropout(0.5)(x)\n",
    "    outputs = Dense(1, activation='sigmoid')(x)\n",
    "    model = keras.Model(inputs, outputs, name=\"model\")\n",
    "    model.compile(loss=tf.keras.losses.BinaryCrossentropy(),\n",
    "                   optimizer= keras.optimizers.Adam(learning_rate=hp_learning_rate),\n",
    "                   metrics=[tf.keras.metrics.Precision()],\n",
    "                )\n",
    "    model.summary()\n",
    "    return model"
   ]
  },
  {
   "cell_type": "code",
   "execution_count": 50,
   "metadata": {},
   "outputs": [],
   "source": [
    "def create_final_model(u, lr):\n",
    "    inputs = keras.Input(shape=(_inputs, ))\n",
    "    x = Dense(units = u,  activation=\"relu\")(inputs)\n",
    "    x = Dropout(0.5)(x)\n",
    "    x = Dense(units=round(u/2), activation=\"relu\")(x)\n",
    "    x = Dropout(0.5)(x)\n",
    "    outputs = Dense(1, activation='sigmoid')(x)\n",
    "    model = keras.Model(inputs, outputs, name=\"final_model\")\n",
    "    model.compile(loss=tf.keras.losses.BinaryCrossentropy(),\n",
    "                   optimizer= keras.optimizers.Adam(learning_rate=lr),\n",
    "                   metrics=[tf.keras.metrics.Precision()],\n",
    "                )\n",
    "    model.summary()\n",
    "    return model    "
   ]
  },
  {
   "cell_type": "code",
   "execution_count": 51,
   "metadata": {},
   "outputs": [
    {
     "name": "stdout",
     "output_type": "stream",
     "text": [
      "Model: \"model\"\n",
      "_________________________________________________________________\n",
      " Layer (type)                Output Shape              Param #   \n",
      "=================================================================\n",
      " input_3 (InputLayer)        [(None, 31)]              0         \n",
      "                                                                 \n",
      " dense_6 (Dense)             (None, 32)                1024      \n",
      "                                                                 \n",
      " dropout_4 (Dropout)         (None, 32)                0         \n",
      "                                                                 \n",
      " dense_7 (Dense)             (None, 16)                528       \n",
      "                                                                 \n",
      " dropout_5 (Dropout)         (None, 16)                0         \n",
      "                                                                 \n",
      " dense_8 (Dense)             (None, 1)                 17        \n",
      "                                                                 \n",
      "=================================================================\n",
      "Total params: 1,569\n",
      "Trainable params: 1,569\n",
      "Non-trainable params: 0\n",
      "_________________________________________________________________\n"
     ]
    }
   ],
   "source": [
    "tunner = kt.RandomSearch(create_model, \n",
    "                         objective='val_loss', \n",
    "                         max_trials=5, \n",
    "                         overwrite=True)"
   ]
  },
  {
   "cell_type": "code",
   "execution_count": 52,
   "metadata": {},
   "outputs": [
    {
     "name": "stdout",
     "output_type": "stream",
     "text": [
      "Trial 5 Complete [00h 02m 52s]\n",
      "val_loss: 0.001953393453732133\n",
      "\n",
      "Best val_loss So Far: 0.0003142889472655952\n",
      "Total elapsed time: 00h 28m 49s\n",
      "INFO:tensorflow:Oracle triggered exit\n"
     ]
    },
    {
     "name": "stderr",
     "output_type": "stream",
     "text": [
      "INFO:tensorflow:Oracle triggered exit\n"
     ]
    },
    {
     "name": "stdout",
     "output_type": "stream",
     "text": [
      "\n",
      "The hyperparameter search is complete. The optimal number of units in the first densely-connected\n",
      "layer is 384 and the optimal learning rate for the optimizer\n",
      "is 0.0001.\n",
      "\n"
     ]
    }
   ],
   "source": [
    "tunner.search(X_train, \n",
    "              y_train,\n",
    "              epochs=_epoch,\n",
    "              validation_data=(X_test,y_test), \n",
    "              batch_size= _batch,\n",
    "              callbacks=[Loss_call_back], )\n",
    "\n",
    "best_hps = tunner.get_best_hyperparameters(num_trials=1)[0]\n",
    "\n",
    "print(f\"\"\"\n",
    "The hyperparameter search is complete. The optimal number of units in the first densely-connected\n",
    "layer is {best_hps.get('units')} and the optimal learning rate for the optimizer\n",
    "is {best_hps.get('learning_rate')}.\n",
    "\"\"\")\n"
   ]
  },
  {
   "attachments": {},
   "cell_type": "markdown",
   "metadata": {},
   "source": [
    "# Final model"
   ]
  },
  {
   "cell_type": "code",
   "execution_count": 53,
   "metadata": {},
   "outputs": [
    {
     "name": "stdout",
     "output_type": "stream",
     "text": [
      "Model: \"final_model\"\n",
      "_________________________________________________________________\n",
      " Layer (type)                Output Shape              Param #   \n",
      "=================================================================\n",
      " input_2 (InputLayer)        [(None, 31)]              0         \n",
      "                                                                 \n",
      " dense_3 (Dense)             (None, 384)               12288     \n",
      "                                                                 \n",
      " dropout_2 (Dropout)         (None, 384)               0         \n",
      "                                                                 \n",
      " dense_4 (Dense)             (None, 192)               73920     \n",
      "                                                                 \n",
      " dropout_3 (Dropout)         (None, 192)               0         \n",
      "                                                                 \n",
      " dense_5 (Dense)             (None, 1)                 193       \n",
      "                                                                 \n",
      "=================================================================\n",
      "Total params: 86,401\n",
      "Trainable params: 86,401\n",
      "Non-trainable params: 0\n",
      "_________________________________________________________________\n"
     ]
    }
   ],
   "source": [
    "final_model = create_final_model(best_hps.get('units'), best_hps.get('learning_rate'))"
   ]
  },
  {
   "cell_type": "code",
   "execution_count": 54,
   "metadata": {},
   "outputs": [
    {
     "name": "stdout",
     "output_type": "stream",
     "text": [
      "Epoch 1/100\n",
      "100/100 [==============================] - 31s 305ms/step - loss: 0.6066 - precision_1: 0.7184 - val_loss: 0.4579 - val_precision_1: 0.6808\n",
      "Epoch 2/100\n",
      "100/100 [==============================] - 4s 40ms/step - loss: 0.4397 - precision_1: 0.8184 - val_loss: 0.3236 - val_precision_1: 0.7645\n",
      "Epoch 3/100\n",
      "100/100 [==============================] - 4s 40ms/step - loss: 0.3287 - precision_1: 0.8630 - val_loss: 0.2417 - val_precision_1: 0.8146\n",
      "Epoch 4/100\n",
      "100/100 [==============================] - 5s 51ms/step - loss: 0.2602 - precision_1: 0.8893 - val_loss: 0.1938 - val_precision_1: 0.8445\n",
      "Epoch 5/100\n",
      "100/100 [==============================] - 5s 50ms/step - loss: 0.2194 - precision_1: 0.9031 - val_loss: 0.1713 - val_precision_1: 0.8536\n",
      "Epoch 6/100\n",
      "100/100 [==============================] - 5s 49ms/step - loss: 0.1924 - precision_1: 0.9129 - val_loss: 0.1548 - val_precision_1: 0.8672\n",
      "Epoch 7/100\n",
      "100/100 [==============================] - 5s 49ms/step - loss: 0.1756 - precision_1: 0.9187 - val_loss: 0.1456 - val_precision_1: 0.8755\n",
      "Epoch 8/100\n",
      "100/100 [==============================] - 5s 49ms/step - loss: 0.1630 - precision_1: 0.9232 - val_loss: 0.1395 - val_precision_1: 0.8782\n",
      "Epoch 9/100\n",
      "100/100 [==============================] - 5s 48ms/step - loss: 0.1532 - precision_1: 0.9274 - val_loss: 0.1331 - val_precision_1: 0.8840\n",
      "Epoch 10/100\n",
      "100/100 [==============================] - 5s 45ms/step - loss: 0.1453 - precision_1: 0.9311 - val_loss: 0.1320 - val_precision_1: 0.8803\n",
      "Epoch 11/100\n",
      "100/100 [==============================] - 5s 48ms/step - loss: 0.1393 - precision_1: 0.9331 - val_loss: 0.1250 - val_precision_1: 0.8887\n",
      "Epoch 12/100\n",
      "100/100 [==============================] - 5s 46ms/step - loss: 0.1341 - precision_1: 0.9356 - val_loss: 0.1207 - val_precision_1: 0.8931\n",
      "Epoch 13/100\n",
      "100/100 [==============================] - 5s 49ms/step - loss: 0.1294 - precision_1: 0.9377 - val_loss: 0.1159 - val_precision_1: 0.8971\n",
      "Epoch 14/100\n",
      "100/100 [==============================] - 5s 48ms/step - loss: 0.1250 - precision_1: 0.9398 - val_loss: 0.1143 - val_precision_1: 0.8980\n",
      "Epoch 15/100\n",
      "100/100 [==============================] - 5s 48ms/step - loss: 0.1197 - precision_1: 0.9415 - val_loss: 0.1093 - val_precision_1: 0.9040\n",
      "Epoch 16/100\n",
      "100/100 [==============================] - 5s 48ms/step - loss: 0.1159 - precision_1: 0.9446 - val_loss: 0.1094 - val_precision_1: 0.9009\n",
      "Epoch 17/100\n",
      "100/100 [==============================] - 5s 49ms/step - loss: 0.1141 - precision_1: 0.9447 - val_loss: 0.1031 - val_precision_1: 0.9105\n",
      "Epoch 18/100\n",
      "100/100 [==============================] - 6s 59ms/step - loss: 0.1103 - precision_1: 0.9468 - val_loss: 0.1015 - val_precision_1: 0.9096\n",
      "Epoch 19/100\n",
      "100/100 [==============================] - 5s 52ms/step - loss: 0.1066 - precision_1: 0.9483 - val_loss: 0.0988 - val_precision_1: 0.9117\n",
      "Epoch 20/100\n",
      "100/100 [==============================] - 5s 50ms/step - loss: 0.1040 - precision_1: 0.9497 - val_loss: 0.0950 - val_precision_1: 0.9169\n",
      "Epoch 21/100\n",
      "100/100 [==============================] - 5s 55ms/step - loss: 0.1023 - precision_1: 0.9506 - val_loss: 0.0960 - val_precision_1: 0.9117\n",
      "Epoch 22/100\n",
      "100/100 [==============================] - 5s 48ms/step - loss: 0.0986 - precision_1: 0.9516 - val_loss: 0.0924 - val_precision_1: 0.9164\n",
      "Epoch 23/100\n",
      "100/100 [==============================] - 5s 55ms/step - loss: 0.0961 - precision_1: 0.9538 - val_loss: 0.0891 - val_precision_1: 0.9219\n",
      "Epoch 24/100\n",
      "100/100 [==============================] - 5s 50ms/step - loss: 0.0936 - precision_1: 0.9546 - val_loss: 0.0876 - val_precision_1: 0.9227\n",
      "Epoch 25/100\n",
      "100/100 [==============================] - 5s 50ms/step - loss: 0.0920 - precision_1: 0.9550 - val_loss: 0.0857 - val_precision_1: 0.9232\n",
      "Epoch 26/100\n",
      "100/100 [==============================] - 5s 50ms/step - loss: 0.0886 - precision_1: 0.9567 - val_loss: 0.0875 - val_precision_1: 0.9181\n",
      "Epoch 27/100\n",
      "100/100 [==============================] - 5s 50ms/step - loss: 0.0869 - precision_1: 0.9569 - val_loss: 0.0824 - val_precision_1: 0.9248\n",
      "Epoch 28/100\n",
      "100/100 [==============================] - 5s 50ms/step - loss: 0.0852 - precision_1: 0.9586 - val_loss: 0.0808 - val_precision_1: 0.9261\n",
      "Epoch 29/100\n",
      "100/100 [==============================] - 5s 49ms/step - loss: 0.0822 - precision_1: 0.9601 - val_loss: 0.0776 - val_precision_1: 0.9313\n",
      "Epoch 30/100\n",
      "100/100 [==============================] - 5s 51ms/step - loss: 0.0810 - precision_1: 0.9602 - val_loss: 0.0740 - val_precision_1: 0.9355\n",
      "Epoch 31/100\n",
      "100/100 [==============================] - 5s 52ms/step - loss: 0.0793 - precision_1: 0.9609 - val_loss: 0.0735 - val_precision_1: 0.9345\n",
      "Epoch 32/100\n",
      "100/100 [==============================] - 5s 50ms/step - loss: 0.0762 - precision_1: 0.9624 - val_loss: 0.0721 - val_precision_1: 0.9334\n",
      "Epoch 33/100\n",
      "100/100 [==============================] - 5s 49ms/step - loss: 0.0751 - precision_1: 0.9630 - val_loss: 0.0710 - val_precision_1: 0.9346\n",
      "Epoch 34/100\n",
      "100/100 [==============================] - 5s 51ms/step - loss: 0.0736 - precision_1: 0.9639 - val_loss: 0.0704 - val_precision_1: 0.9329\n",
      "Epoch 35/100\n",
      "100/100 [==============================] - 5s 50ms/step - loss: 0.0713 - precision_1: 0.9643 - val_loss: 0.0680 - val_precision_1: 0.9349\n",
      "Epoch 36/100\n",
      "100/100 [==============================] - 5s 52ms/step - loss: 0.0697 - precision_1: 0.9650 - val_loss: 0.0660 - val_precision_1: 0.9389\n",
      "Epoch 37/100\n",
      "100/100 [==============================] - 5s 49ms/step - loss: 0.0685 - precision_1: 0.9654 - val_loss: 0.0643 - val_precision_1: 0.9403\n",
      "Epoch 38/100\n",
      "100/100 [==============================] - 5s 51ms/step - loss: 0.0666 - precision_1: 0.9664 - val_loss: 0.0625 - val_precision_1: 0.9400\n",
      "Epoch 39/100\n",
      "100/100 [==============================] - 5s 49ms/step - loss: 0.0656 - precision_1: 0.9671 - val_loss: 0.0599 - val_precision_1: 0.9447\n",
      "Epoch 40/100\n",
      "100/100 [==============================] - 5s 51ms/step - loss: 0.0631 - precision_1: 0.9681 - val_loss: 0.0580 - val_precision_1: 0.9476\n",
      "Epoch 41/100\n",
      "100/100 [==============================] - 5s 51ms/step - loss: 0.0613 - precision_1: 0.9691 - val_loss: 0.0574 - val_precision_1: 0.9445\n",
      "Epoch 42/100\n",
      "100/100 [==============================] - 5s 50ms/step - loss: 0.0591 - precision_1: 0.9699 - val_loss: 0.0539 - val_precision_1: 0.9510\n",
      "Epoch 43/100\n",
      "100/100 [==============================] - 5s 52ms/step - loss: 0.0579 - precision_1: 0.9704 - val_loss: 0.0551 - val_precision_1: 0.9452\n",
      "Epoch 44/100\n",
      "100/100 [==============================] - 6s 55ms/step - loss: 0.0569 - precision_1: 0.9709 - val_loss: 0.0520 - val_precision_1: 0.9480\n",
      "Epoch 45/100\n",
      "100/100 [==============================] - 5s 51ms/step - loss: 0.0549 - precision_1: 0.9720 - val_loss: 0.0490 - val_precision_1: 0.9519\n",
      "Epoch 46/100\n",
      "100/100 [==============================] - 5s 50ms/step - loss: 0.0533 - precision_1: 0.9726 - val_loss: 0.0459 - val_precision_1: 0.9583\n",
      "Epoch 47/100\n",
      "100/100 [==============================] - 5s 54ms/step - loss: 0.0515 - precision_1: 0.9739 - val_loss: 0.0450 - val_precision_1: 0.9572\n",
      "Epoch 48/100\n",
      "100/100 [==============================] - 5s 50ms/step - loss: 0.0488 - precision_1: 0.9748 - val_loss: 0.0419 - val_precision_1: 0.9602\n",
      "Epoch 49/100\n",
      "100/100 [==============================] - 5s 49ms/step - loss: 0.0475 - precision_1: 0.9756 - val_loss: 0.0386 - val_precision_1: 0.9659\n",
      "Epoch 50/100\n",
      "100/100 [==============================] - 5s 52ms/step - loss: 0.0454 - precision_1: 0.9770 - val_loss: 0.0362 - val_precision_1: 0.9682\n",
      "Epoch 51/100\n",
      "100/100 [==============================] - 5s 51ms/step - loss: 0.0437 - precision_1: 0.9780 - val_loss: 0.0372 - val_precision_1: 0.9633\n",
      "Epoch 52/100\n",
      "100/100 [==============================] - 5s 50ms/step - loss: 0.0418 - precision_1: 0.9791 - val_loss: 0.0334 - val_precision_1: 0.9682\n",
      "Epoch 53/100\n",
      "100/100 [==============================] - 5s 51ms/step - loss: 0.0392 - precision_1: 0.9797 - val_loss: 0.0314 - val_precision_1: 0.9692\n",
      "Epoch 54/100\n",
      "100/100 [==============================] - 5s 50ms/step - loss: 0.0376 - precision_1: 0.9813 - val_loss: 0.0296 - val_precision_1: 0.9714\n",
      "Epoch 55/100\n",
      "100/100 [==============================] - 6s 56ms/step - loss: 0.0361 - precision_1: 0.9822 - val_loss: 0.0261 - val_precision_1: 0.9760\n",
      "Epoch 56/100\n",
      "100/100 [==============================] - 5s 53ms/step - loss: 0.0331 - precision_1: 0.9836 - val_loss: 0.0239 - val_precision_1: 0.9779\n",
      "Epoch 57/100\n",
      "100/100 [==============================] - 5s 54ms/step - loss: 0.0315 - precision_1: 0.9844 - val_loss: 0.0227 - val_precision_1: 0.9787\n",
      "Epoch 58/100\n",
      "100/100 [==============================] - 5s 52ms/step - loss: 0.0294 - precision_1: 0.9859 - val_loss: 0.0221 - val_precision_1: 0.9777\n",
      "Epoch 59/100\n",
      "100/100 [==============================] - 5s 52ms/step - loss: 0.0276 - precision_1: 0.9865 - val_loss: 0.0182 - val_precision_1: 0.9848\n",
      "Epoch 60/100\n",
      "100/100 [==============================] - 5s 51ms/step - loss: 0.0251 - precision_1: 0.9879 - val_loss: 0.0160 - val_precision_1: 0.9869\n",
      "Epoch 61/100\n",
      "100/100 [==============================] - 5s 52ms/step - loss: 0.0236 - precision_1: 0.9893 - val_loss: 0.0155 - val_precision_1: 0.9870\n",
      "Epoch 62/100\n",
      "100/100 [==============================] - 6s 58ms/step - loss: 0.0218 - precision_1: 0.9901 - val_loss: 0.0137 - val_precision_1: 0.9884\n",
      "Epoch 63/100\n",
      "100/100 [==============================] - 5s 49ms/step - loss: 0.0206 - precision_1: 0.9909 - val_loss: 0.0120 - val_precision_1: 0.9905\n",
      "Epoch 64/100\n",
      "100/100 [==============================] - 5s 51ms/step - loss: 0.0187 - precision_1: 0.9919 - val_loss: 0.0114 - val_precision_1: 0.9909\n",
      "Epoch 65/100\n",
      "100/100 [==============================] - 5s 51ms/step - loss: 0.0171 - precision_1: 0.9925 - val_loss: 0.0094 - val_precision_1: 0.9946\n",
      "Epoch 66/100\n",
      "100/100 [==============================] - 5s 51ms/step - loss: 0.0159 - precision_1: 0.9932 - val_loss: 0.0089 - val_precision_1: 0.9940\n",
      "Epoch 67/100\n",
      "100/100 [==============================] - 5s 52ms/step - loss: 0.0150 - precision_1: 0.9938 - val_loss: 0.0081 - val_precision_1: 0.9949\n",
      "Epoch 68/100\n",
      "100/100 [==============================] - 5s 53ms/step - loss: 0.0138 - precision_1: 0.9941 - val_loss: 0.0074 - val_precision_1: 0.9955\n",
      "Epoch 69/100\n",
      "100/100 [==============================] - 6s 58ms/step - loss: 0.0124 - precision_1: 0.9950 - val_loss: 0.0065 - val_precision_1: 0.9964\n",
      "Epoch 70/100\n",
      "100/100 [==============================] - 5s 52ms/step - loss: 0.0114 - precision_1: 0.9955 - val_loss: 0.0061 - val_precision_1: 0.9968\n",
      "Epoch 71/100\n",
      "100/100 [==============================] - 5s 53ms/step - loss: 0.0106 - precision_1: 0.9959 - val_loss: 0.0053 - val_precision_1: 0.9971\n",
      "Epoch 72/100\n",
      "100/100 [==============================] - 5s 51ms/step - loss: 0.0096 - precision_1: 0.9963 - val_loss: 0.0046 - val_precision_1: 0.9976\n",
      "Epoch 73/100\n",
      "100/100 [==============================] - 5s 51ms/step - loss: 0.0090 - precision_1: 0.9965 - val_loss: 0.0043 - val_precision_1: 0.9976\n",
      "Epoch 74/100\n",
      "100/100 [==============================] - 6s 55ms/step - loss: 0.0084 - precision_1: 0.9969 - val_loss: 0.0036 - val_precision_1: 0.9981\n",
      "Epoch 75/100\n",
      "100/100 [==============================] - 5s 54ms/step - loss: 0.0076 - precision_1: 0.9974 - val_loss: 0.0034 - val_precision_1: 0.9983\n",
      "Epoch 76/100\n",
      "100/100 [==============================] - 5s 50ms/step - loss: 0.0072 - precision_1: 0.9976 - val_loss: 0.0037 - val_precision_1: 0.9977\n",
      "Epoch 77/100\n",
      "100/100 [==============================] - 5s 51ms/step - loss: 0.0067 - precision_1: 0.9976 - val_loss: 0.0030 - val_precision_1: 0.9984\n",
      "Epoch 78/100\n",
      "100/100 [==============================] - 5s 52ms/step - loss: 0.0063 - precision_1: 0.9976 - val_loss: 0.0025 - val_precision_1: 0.9989\n",
      "Epoch 79/100\n",
      "100/100 [==============================] - 5s 50ms/step - loss: 0.0058 - precision_1: 0.9980 - val_loss: 0.0024 - val_precision_1: 0.9986\n",
      "Epoch 80/100\n",
      "100/100 [==============================] - 5s 55ms/step - loss: 0.0052 - precision_1: 0.9983 - val_loss: 0.0022 - val_precision_1: 0.9986\n",
      "Epoch 81/100\n",
      "100/100 [==============================] - 5s 53ms/step - loss: 0.0048 - precision_1: 0.9983 - val_loss: 0.0018 - val_precision_1: 0.9992\n",
      "Epoch 82/100\n",
      "100/100 [==============================] - 5s 52ms/step - loss: 0.0042 - precision_1: 0.9987 - val_loss: 0.0016 - val_precision_1: 0.9994\n",
      "Epoch 83/100\n",
      "100/100 [==============================] - 5s 51ms/step - loss: 0.0040 - precision_1: 0.9986 - val_loss: 0.0016 - val_precision_1: 0.9991\n",
      "Epoch 84/100\n",
      "100/100 [==============================] - 5s 52ms/step - loss: 0.0039 - precision_1: 0.9988 - val_loss: 0.0016 - val_precision_1: 0.9987\n",
      "Epoch 85/100\n",
      "100/100 [==============================] - 6s 61ms/step - loss: 0.0038 - precision_1: 0.9987 - val_loss: 0.0015 - val_precision_1: 0.9992\n",
      "Epoch 86/100\n",
      "100/100 [==============================] - 5s 51ms/step - loss: 0.0034 - precision_1: 0.9990 - val_loss: 0.0016 - val_precision_1: 0.9986\n",
      "Epoch 87/100\n",
      "100/100 [==============================] - 5s 50ms/step - loss: 0.0032 - precision_1: 0.9990 - val_loss: 0.0011 - val_precision_1: 0.9994\n",
      "Epoch 88/100\n",
      "100/100 [==============================] - 5s 52ms/step - loss: 0.0031 - precision_1: 0.9990 - val_loss: 0.0011 - val_precision_1: 0.9995\n",
      "Epoch 89/100\n",
      "100/100 [==============================] - 6s 55ms/step - loss: 0.0028 - precision_1: 0.9992 - val_loss: 0.0013 - val_precision_1: 0.9989\n",
      "Epoch 90/100\n",
      "100/100 [==============================] - 5s 51ms/step - loss: 0.0025 - precision_1: 0.9994 - val_loss: 0.0012 - val_precision_1: 0.9990\n",
      "Epoch 91/100\n",
      "100/100 [==============================] - 5s 51ms/step - loss: 0.0025 - precision_1: 0.9993 - val_loss: 7.5527e-04 - val_precision_1: 0.9996\n",
      "Epoch 92/100\n",
      "100/100 [==============================] - 5s 52ms/step - loss: 0.0024 - precision_1: 0.9993 - val_loss: 8.5336e-04 - val_precision_1: 0.9995\n",
      "Epoch 93/100\n",
      "100/100 [==============================] - 5s 52ms/step - loss: 0.0022 - precision_1: 0.9993 - val_loss: 7.9608e-04 - val_precision_1: 0.9994\n",
      "Epoch 94/100\n",
      "100/100 [==============================] - 6s 58ms/step - loss: 0.0021 - precision_1: 0.9994 - val_loss: 7.0034e-04 - val_precision_1: 0.9996\n",
      "Epoch 95/100\n",
      "100/100 [==============================] - 5s 52ms/step - loss: 0.0018 - precision_1: 0.9995 - val_loss: 5.2796e-04 - val_precision_1: 0.9998\n",
      "Epoch 96/100\n",
      "100/100 [==============================] - 5s 53ms/step - loss: 0.0019 - precision_1: 0.9994 - val_loss: 6.0116e-04 - val_precision_1: 0.9997\n",
      "Epoch 97/100\n",
      "100/100 [==============================] - 5s 50ms/step - loss: 0.0017 - precision_1: 0.9995 - val_loss: 4.5719e-04 - val_precision_1: 0.9998\n",
      "Epoch 98/100\n",
      "100/100 [==============================] - 6s 58ms/step - loss: 0.0015 - precision_1: 0.9996 - val_loss: 5.4452e-04 - val_precision_1: 0.9998\n",
      "Epoch 99/100\n",
      "100/100 [==============================] - 5s 50ms/step - loss: 0.0015 - precision_1: 0.9996 - val_loss: 4.0556e-04 - val_precision_1: 0.9998\n",
      "Epoch 100/100\n",
      "100/100 [==============================] - 5s 51ms/step - loss: 0.0014 - precision_1: 0.9997 - val_loss: 4.1217e-04 - val_precision_1: 0.9998\n"
     ]
    }
   ],
   "source": [
    "history = final_model.fit(X_train, \n",
    "                          y_train,\n",
    "                          epochs=_epoch,\n",
    "                          batch_size= _batch,\n",
    "                          validation_data=(X_test,y_test),\n",
    "                          callbacks=[Loss_call_back])"
   ]
  },
  {
   "cell_type": "code",
   "execution_count": 55,
   "metadata": {},
   "outputs": [
    {
     "data": {
      "image/png": "[encoded data removed]",
      "text/plain": [
       "<Figure size 640x480 with 1 Axes>"
      ]
     },
     "metadata": {},
     "output_type": "display_data"
    }
   ],
   "source": [
    "plot_loss(history)"
   ]
  },
  {
   "cell_type": "code",
   "execution_count": 56,
   "metadata": {},
   "outputs": [
    {
     "data": {
      "image/png": "[encoded data removed]",
      "text/plain": [
       "<Figure size 640x480 with 1 Axes>"
      ]
     },
     "metadata": {},
     "output_type": "display_data"
    }
   ],
   "source": [
    "plot_precision(history, list(history.history)[1], list(history.history)[3])"
   ]
  },
  {
   "attachments": {},
   "cell_type": "markdown",
   "metadata": {},
   "source": [
    "# Saving Model"
   ]
  },
  {
   "cell_type": "code",
   "execution_count": 57,
   "metadata": {},
   "outputs": [
    {
     "name": "stderr",
     "output_type": "stream",
     "text": [
      "WARNING:absl:Found untraced functions such as _update_step_xla while saving (showing 1 of 1). These functions will not be directly callable after loading.\n"
     ]
    },
    {
     "name": "stdout",
     "output_type": "stream",
     "text": [
      "INFO:tensorflow:Assets written to: ../models\\assets\n"
     ]
    },
    {
     "name": "stderr",
     "output_type": "stream",
     "text": [
      "INFO:tensorflow:Assets written to: ../models\\assets\n"
     ]
    }
   ],
   "source": [
    "final_model.save('../models')"
   ]
  }
 ],
 "metadata": {
  "kernelspec": {
   "display_name": "TMLC_Deep_Learning",
   "language": "python",
   "name": "python3"
  },
  "language_info": {
   "codemirror_mode": {
    "name": "ipython",
    "version": 3
   },
   "file_extension": ".py",
   "mimetype": "text/x-python",
   "name": "python",
   "nbconvert_exporter": "python",
   "pygments_lexer": "ipython3",
   "version": "3.10.11"
  },
  "orig_nbformat": 4
 },
 "nbformat": 4,
 "nbformat_minor": 2
}
